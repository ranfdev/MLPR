{
 "cells": [
  {
   "cell_type": "code",
   "execution_count": 17,
   "metadata": {},
   "outputs": [
    {
     "data": {
      "text/plain": [
       "array([[ 0,  0,  0,  0,  0],\n",
       "       [ 0,  1,  2,  3,  4],\n",
       "       [ 0,  2,  4,  6,  8],\n",
       "       [ 0,  3,  6,  9, 12],\n",
       "       [ 0,  4,  8, 12, 16]])"
      ]
     },
     "execution_count": 17,
     "metadata": {},
     "output_type": "execute_result"
    }
   ],
   "source": [
    "import numpy as np\n",
    "def ijmatrix(m, n):\n",
    "    if m < 0 or n < 0:\n",
    "        return None\n",
    "    return np.arange(m) * np.arange(n).reshape(m,1)\n",
    "\n",
    "ijmatrix(5,5)\n",
    "    "
   ]
  },
  {
   "cell_type": "code",
   "execution_count": null,
   "metadata": {},
   "outputs": [
    {
     "name": "stdout",
     "output_type": "stream",
     "text": [
      "[ 5. 10. 15. 20.]\n"
     ]
    },
    {
     "data": {
      "text/plain": [
       "array([[0.2 , 0.2 , 0.4 , 0.2 ],\n",
       "       [0.6 , 0.4 , 0.2 , 0.35],\n",
       "       [0.2 , 0.4 , 0.4 , 0.45]])"
      ]
     },
     "execution_count": 46,
     "metadata": {},
     "output_type": "execute_result"
    }
   ],
   "source": [
    "def normalize_cols(m):\n",
    "    factor = m.sum(0).reshape(1, m.shape[1])\n",
    "    return m / factor\n",
    "\n",
    "normalize_cols(np.array([\n",
    "    [1.0, 2.0, 6.0, 4.0],\n",
    "    [3.0, 4.0, 3.0, 7.0],\n",
    "    [1.0, 4.0, 6.0, 9.0]]))"
   ]
  },
  {
   "cell_type": "code",
   "execution_count": 47,
   "metadata": {},
   "outputs": [
    {
     "data": {
      "text/plain": [
       "array([[0.07692308, 0.15384615, 0.46153846, 0.30769231],\n",
       "       [0.17647059, 0.23529412, 0.17647059, 0.41176471],\n",
       "       [0.05      , 0.2       , 0.3       , 0.45      ]])"
      ]
     },
     "execution_count": 47,
     "metadata": {},
     "output_type": "execute_result"
    }
   ],
   "source": [
    "def normalize_rows(m):\n",
    "    factor = m.sum(1).reshape(m.shape[0], 1)\n",
    "    return m / factor\n",
    "\n",
    "normalize_rows(np.array([\n",
    "    [1.0, 2.0, 6.0, 4.0],\n",
    "    [3.0, 4.0, 3.0, 7.0],\n",
    "    [1.0, 4.0, 6.0, 9.0]]))"
   ]
  },
  {
   "cell_type": "code",
   "execution_count": 128,
   "metadata": {},
   "outputs": [
    {
     "data": {
      "text/plain": [
       "6"
      ]
     },
     "execution_count": 128,
     "metadata": {},
     "output_type": "execute_result"
    }
   ],
   "source": [
    "np.array([[1,2,3,], [1,2,3,]]).size"
   ]
  },
  {
   "cell_type": "code",
   "execution_count": 51,
   "metadata": {},
   "outputs": [
    {
     "data": {
      "text/plain": [
       "array([[1., 0., 0.],\n",
       "       [3., 0., 2.]])"
      ]
     },
     "execution_count": 51,
     "metadata": {},
     "output_type": "execute_result"
    }
   ],
   "source": [
    "def absm(m):\n",
    "    return (m + np.absolute(m)) / 2\n",
    "\n",
    "absm(np.array([[1, -1, -1], [3, -1, 2]]))"
   ]
  },
  {
   "cell_type": "code",
   "execution_count": 66,
   "metadata": {},
   "outputs": [
    {
     "data": {
      "text/plain": [
       "21"
      ]
     },
     "execution_count": 66,
     "metadata": {},
     "output_type": "execute_result"
    }
   ],
   "source": [
    "def sum_prod(m1, m2):\n",
    "    return m1.dot(m2).sum()\n",
    "\n",
    "sum_prod(np.array([[1, -1, -1], [3, -1, 2]]), np.array([[1, -1, -1], [3, -1, 2]]).T)"
   ]
  },
  {
   "cell_type": "code",
   "execution_count": null,
   "metadata": {},
   "outputs": [],
   "source": []
  },
  {
   "cell_type": "code",
   "execution_count": 59,
   "metadata": {},
   "outputs": [
    {
     "data": {
      "text/plain": [
       "array([[ 3,  2],\n",
       "       [ 2, 14]])"
      ]
     },
     "execution_count": 59,
     "metadata": {},
     "output_type": "execute_result"
    }
   ],
   "source": [
    "a = np.array([[1, -1, -1], [3, -1, 2]])\n",
    "a.dot(a.T)"
   ]
  },
  {
   "cell_type": "code",
   "execution_count": 120,
   "metadata": {},
   "outputs": [
    {
     "name": "stdout",
     "output_type": "stream",
     "text": [
      "[28.7 27.2 25.8 27.3 26.4]\n"
     ]
    },
    {
     "data": {
      "text/plain": [
       "[['Donald', 'Duck', 'ITA'],\n",
       " ['Daffy', 'Duck', 'RUS'],\n",
       " ['Mickey', 'Mouse', 'ITA']]"
      ]
     },
     "execution_count": 120,
     "metadata": {},
     "output_type": "execute_result"
    }
   ],
   "source": [
    "file = \"Donald Duck ITA 9.3 8.9 9.7 9.7 9.8\\n\\\n",
    "Mickey Mouse ITA 9.0 9.0 9.0 9.2 9.5\\n\\\n",
    "Bugs Bunny USA 8.4 8.7 8.5 8.6 9.0\\n\\\n",
    "Daffy Duck RUS 8.3 8.8 9.5 9.6 9.0\\n\\\n",
    "Charlie Brown GRB 8.2 8.9 8.9 8.6 9.3\\n\"\n",
    "\n",
    "M = []\n",
    "competitors = []\n",
    "for line in file.split('\\n'):\n",
    "    if line == \"\":\n",
    "        continue\n",
    "    fields = line.split(' ')\n",
    "    competitors.append(fields[0:3])\n",
    "    points = np.array(list(map(float, fields[3:])))\n",
    "    M.append(points)\n",
    "\n",
    "M = np.array(M)\n",
    "M.sort()\n",
    "# We ignore best and worst scores for each player\n",
    "M = M[:, 1:-1]\n",
    "# We sum each player score\n",
    "scores = M.sum(1)\n",
    "\n",
    "winners = (-scores).argsort()\n",
    "print(scores)\n",
    "winners\n",
    "list(map(lambda x: competitors[x], winners[0:3]))\n",
    "# The final ranking for the best 3 competitors: consider that for computing the final records, the\n",
    "# highest and lowest evaluations are ignored and the score is determined by the sum of the remaining\n",
    "# 3 values.\n",
    "\n",
    "\n",
    "\n"
   ]
  }
 ],
 "metadata": {
  "kernelspec": {
   "display_name": "Python 3",
   "language": "python",
   "name": "python3"
  },
  "language_info": {
   "codemirror_mode": {
    "name": "ipython",
    "version": 3
   },
   "file_extension": ".py",
   "mimetype": "text/x-python",
   "name": "python",
   "nbconvert_exporter": "python",
   "pygments_lexer": "ipython3",
   "version": "3.13.2"
  }
 },
 "nbformat": 4,
 "nbformat_minor": 2
}
